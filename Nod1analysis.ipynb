{
 "metadata": {
  "name": ""
 },
 "nbformat": 3,
 "nbformat_minor": 0,
 "worksheets": [
  {
   "cells": [
    {
     "cell_type": "code",
     "collapsed": false,
     "input": [
      "%install_ext https://raw.github.com/kdiverson/ipython-mothurmagic/master/mothurmagic.py\n",
      "%load_ext mothurmagic"
     ],
     "language": "python",
     "metadata": {},
     "outputs": [
      {
       "output_type": "stream",
       "stream": "stdout",
       "text": [
        "Installed mothurmagic.py. To use it, type:\n",
        "  %load_ext mothurmagic\n"
       ]
      }
     ],
     "prompt_number": 1
    },
    {
     "cell_type": "code",
     "collapsed": false,
     "input": [
      "%load_ext rmagic"
     ],
     "language": "python",
     "metadata": {},
     "outputs": [],
     "prompt_number": 1
    },
    {
     "cell_type": "markdown",
     "metadata": {},
     "source": [
      "Both WT and NOD1-/- mice were put through the AOM/DSS mouse model of intestinal inflammation in order to understand temporal changes in the microbiome associated with colon cancer. Metadata of all samples are located in [metadata](files/nod1.metadata.txt.xlsx). "
     ]
    },
    {
     "cell_type": "code",
     "collapsed": false,
     "input": [
      "%pfile files/nod1.metadata.txt.xlsx"
     ],
     "language": "python",
     "metadata": {},
     "outputs": [
      {
       "output_type": "stream",
       "stream": "stdout",
       "text": [
        "Object `files/nod1.metadata.txt.xlsx` not found.\n",
        "File `u'files/nod1.metadata.txt.xlsx.py'` not found.\n"
       ]
      }
     ],
     "prompt_number": 4
    },
    {
     "cell_type": "heading",
     "level": 1,
     "metadata": {},
     "source": [
      "Untreated mice"
     ]
    },
    {
     "cell_type": "markdown",
     "metadata": {},
     "source": [
      "All samples were sequenced on the Illumina MiSeq of the V4 region. For this analysis, the samples were parsed to only include mice that were not treated with antibiotics. This analysis is very similar to those done in [Joe's paper]("
     ]
    },
    {
     "cell_type": "heading",
     "level": 2,
     "metadata": {},
     "source": [
      "Alpha diversity"
     ]
    },
    {
     "cell_type": "code",
     "collapsed": false,
     "input": [],
     "language": "python",
     "metadata": {},
     "outputs": []
    }
   ],
   "metadata": {}
  }
 ]
}