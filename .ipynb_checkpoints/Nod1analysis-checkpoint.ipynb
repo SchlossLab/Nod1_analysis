{
 "metadata": {
  "name": ""
 },
 "nbformat": 3,
 "nbformat_minor": 0,
 "worksheets": [
  {
   "cells": [
    {
     "cell_type": "code",
     "collapsed": false,
     "input": [
      "%install_ext https://raw.github.com/kdiverson/ipython-mothurmagic/master/mothurmagic.py\n",
      "%load_ext mothurmagic"
     ],
     "language": "python",
     "metadata": {},
     "outputs": [
      {
       "output_type": "stream",
       "stream": "stdout",
       "text": [
        "Installed mothurmagic.py. To use it, type:\n",
        "  %load_ext mothurmagic\n"
       ]
      }
     ],
     "prompt_number": 1
    },
    {
     "cell_type": "code",
     "collapsed": false,
     "input": [
      "%load_ext rmagic"
     ],
     "language": "python",
     "metadata": {},
     "outputs": [],
     "prompt_number": 2
    },
    {
     "cell_type": "markdown",
     "metadata": {},
     "source": [
      "Both WT and NOD1-/- mice were put through the AOM/DSS mouse model of intestinal inflammation in order to understand temporal changes in the microbiome associated with colon cancer. Metadata of all samples are located in [metadata](files/nod1.metadata.txt.xlsx). "
     ]
    },
    {
     "cell_type": "code",
     "collapsed": false,
     "input": [
      "%pfile files/nod1.metadata.txt.xlsx"
     ],
     "language": "python",
     "metadata": {},
     "outputs": [
      {
       "output_type": "stream",
       "stream": "stdout",
       "text": [
        "Object `files/nod1.metadata.txt.xlsx` not found.\n",
        "File `u'files/nod1.metadata.txt.xlsx.py'` not found.\n"
       ]
      }
     ],
     "prompt_number": 4
    },
    {
     "cell_type": "heading",
     "level": 1,
     "metadata": {},
     "source": [
      "Untreated mice"
     ]
    },
    {
     "cell_type": "markdown",
     "metadata": {},
     "source": [
      "All samples were sequenced on the Illumina MiSeq of the V4 region. For this analysis, the samples were parsed to only include mice that were not treated with antibiotics. This analysis is very similar to those done in Joe's paper."
     ]
    },
    {
     "cell_type": "heading",
     "level": 2,
     "metadata": {},
     "source": [
      "Alpha diversity"
     ]
    },
    {
     "cell_type": "code",
     "collapsed": false,
     "input": [
      "%%R\n",
      "library(\"sciplot\", lib.loc=\"/Library/Frameworks/R.framework/Versions/3.0/Resources/library\")\n",
      "\n",
      "summary <- read.table('~/Documents/grace/nod1/untreated/invsimp/nod1.0.03.untreated.rarefied.groups.summary', header=T)\n",
      "metadata <- read.table('~/Documents/grace/nod1/untreated/nod1.untreated.metadata.txt', header=T)\n",
      "s <- merge(summary, metadata, by = 'group')\n",
      "s<- s[s$stage != 'baseline', c(1:11)]\n",
      "bargraph.CI(s$stage, s$invsimpson, main='Inverse Simpson diversity during treatment', xlab='stage of model', ylab='Inverse simpson index', col=c('black', 'blue', 'dark green', 'red'))\n",
      "\n",
      "bargraph.CI(s$stage, s$sobs, main='No. observed OTUs during treatment', xlab='stage of model', ylab='No. observed OTUs', col=c('black', 'blue', 'dark green', 'red'))\n",
      "\n",
      "#alpha diversity for both WT and Nod1 untreated\n",
      "combined <- read.table('~/Documents/Grace/nod1/untreated/invsimp/nod1.0.03.untreated.rarefied.groups.summary', header=T)\n",
      "metadata <- read.table('~/Documents/Grace/nod1/untreated/nod1.untreated.metadata.txt', header=T)\n",
      "c <- merge(combined, metadata, by = 'group') \n",
      "d <- c[c$stage != 'baseline', c(1:11)]\n",
      "d$stage <- factor(d$stage)\n",
      "\n",
      "bargraph.CI(d$stage, d$invsimpson, d$genotype, main='Inverse Simpson diversity during treatment', xlab='stage of model', ylab='Inverse simpson index', col=c('black', 'blue'))\n",
      "bargraph.CI(d$stage, d$sobs,d$genotype, main='No. observed OTUs during treatment', xlab='stage of model', ylab='No. observed OTUs', col=c('black', 'blue'))\n",
      "\n",
      "legend('topright', legend = c('nod1','wt'), col=c('black','blue'), pch=18)\n",
      "\n",
      "n <- d[d$genotype =='nod1', c(1:11)]\n",
      "n$mouse <- factor(n$mouse)\n",
      "n$genotype <- factor(n$genotype)\n",
      "\n",
      "n2<- n[n$mouse != 'm7288', c(1:11) ]\n",
      "n2<- n2[n2$mouse != 'm7292', c(1:11) ]\n",
      "n2$mouse <- factor(n2$mouse)\n",
      "w <- d[d$genotype =='wt', c(1:11)]\n",
      "w$mouse <- factor(w$mouse)\n",
      "w$genotype <- factor(w$genotype)\n",
      "#SOME STATISTICS\n",
      "anova(lm(n$invsimpson ~ n$stage))\n",
      "\n",
      "summary(aov((w$invsimpson) ~ w$stage+Error(w$mouse/w$stage)))\n",
      "summary(aov((n2$invsimpson) ~ n2$stage+Error(n2$mouse/n2$stage)))\n",
      "\n",
      "anova(lm(d$invsimpson~d$stage+d$genotype))\n",
      "interaction.plot(d$stage, d$genotype, d$invsimpson)"
     ],
     "language": "python",
     "metadata": {},
     "outputs": [
      {
       "output_type": "stream",
       "stream": "stdout",
       "text": [
        "Error in tapply(response, groups, fun) : arguments must have same length\n"
       ]
      }
     ],
     "prompt_number": 4
    },
    {
     "cell_type": "code",
     "collapsed": false,
     "input": [],
     "language": "python",
     "metadata": {},
     "outputs": []
    }
   ],
   "metadata": {}
  }
 ]
}